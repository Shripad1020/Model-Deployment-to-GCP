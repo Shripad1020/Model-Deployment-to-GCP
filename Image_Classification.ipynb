{
  "nbformat": 4,
  "nbformat_minor": 0,
  "metadata": {
    "colab": {
      "name": "Image Classification",
      "provenance": [],
      "collapsed_sections": [],
      "include_colab_link": true
    },
    "kernelspec": {
      "name": "python3",
      "display_name": "Python 3"
    },
    "accelerator": "GPU"
  },
  "cells": [
    {
      "cell_type": "markdown",
      "metadata": {
        "id": "view-in-github",
        "colab_type": "text"
      },
      "source": [
        "<a href=\"https://colab.research.google.com/github/Shripad1020/Model-Deployment-to-GCP/blob/master/Image_Classification.ipynb\" target=\"_parent\"><img src=\"https://colab.research.google.com/assets/colab-badge.svg\" alt=\"Open In Colab\"/></a>"
      ]
    },
    {
      "cell_type": "code",
      "metadata": {
        "id": "Nq4kxIpQMpZT",
        "colab": {
          "base_uri": "https://localhost:8080/"
        },
        "outputId": "a541b246-f578-40f5-b14b-7ef49c17e133"
      },
      "source": [
        "#Hardware accelerator: GPU\n",
        "from google.colab import drive\n",
        "drive.mount('/content/drive')"
      ],
      "execution_count": 2,
      "outputs": [
        {
          "output_type": "stream",
          "text": [
            "Mounted at /content/drive\n"
          ],
          "name": "stdout"
        }
      ]
    },
    {
      "cell_type": "code",
      "metadata": {
        "colab": {
          "base_uri": "https://localhost:8080/"
        },
        "id": "MuEt72UJoWEd",
        "outputId": "01f7c0ac-2bee-40f9-8a9b-37866624a0cc"
      },
      "source": [
        "!pwd\n",
        "%cd /content/drive/MyDrive/kaggle"
      ],
      "execution_count": 3,
      "outputs": [
        {
          "output_type": "stream",
          "text": [
            "/content\n",
            "/content/drive/MyDrive/kaggle\n"
          ],
          "name": "stdout"
        }
      ]
    },
    {
      "cell_type": "code",
      "metadata": {
        "id": "r9IdsOGuLYVK"
      },
      "source": [
        "import zipfile\n",
        "import tensorflow as tf\n",
        "from tensorflow import keras\n",
        "from tensorflow.keras import layers\n",
        "from tensorflow.keras.layers.experimental import preprocessing"
      ],
      "execution_count": 4,
      "outputs": []
    },
    {
      "cell_type": "code",
      "metadata": {
        "id": "C_1Ol5LZXrb8"
      },
      "source": [
        "# Setup data inputs\n",
        "IMG_SIZE = (224, 224)\n",
        "\n",
        "def create_data_loaders(train_dir, test_dir, image_size=IMG_SIZE):\n",
        "  train_data = tf.keras.preprocessing.image_dataset_from_directory(train_dir,\n",
        "                                                                  label_mode=\"categorical\",\n",
        "                                                                  image_size=image_size)\n",
        "\n",
        "  test_data = tf.keras.preprocessing.image_dataset_from_directory(test_dir,\n",
        "                                                                  label_mode=\"categorical\",\n",
        "                                                                  image_size=image_size)\n",
        "  \n",
        "  return train_data, test_data"
      ],
      "execution_count": 5,
      "outputs": []
    },
    {
      "cell_type": "code",
      "metadata": {
        "id": "s1Icsoq0YYRb"
      },
      "source": [
        "# Create a data augmentation stage with horizontal flipping, rotations, zooms\n",
        "data_augmentation = keras.Sequential([\n",
        "  preprocessing.RandomFlip(\"horizontal\"),\n",
        "  preprocessing.RandomRotation(0.2),\n",
        "  preprocessing.RandomZoom(0.2),\n",
        "  preprocessing.RandomHeight(0.2),\n",
        "  preprocessing.RandomWidth(0.2),\n",
        "  # preprocessing.Rescaling(1./255) # keep for ResNet50V2, remove for EfficientNetB0\n",
        "], name =\"data_augmentation\")"
      ],
      "execution_count": 6,
      "outputs": []
    },
    {
      "cell_type": "code",
      "metadata": {
        "colab": {
          "base_uri": "https://localhost:8080/"
        },
        "id": "kn5qDRF8XqLs",
        "outputId": "00b88ec8-306e-4a07-92f1-039609d11296"
      },
      "source": [
        "# Setup input shape and base model, freezing the base model layers\n",
        "INPUT_SHAPE = (224, 224, 3)\n",
        "BASE_MODEL = tf.keras.applications.EfficientNetB0(include_top=False)\n",
        "\n",
        "def create_model(input_shape=INPUT_SHAPE, base_model=BASE_MODEL, num_classes=10):\n",
        "  base_model.trainable = False\n",
        "\n",
        "  # Create input layer\n",
        "  inputs = layers.Input(shape=input_shape, name=\"input_layer\")\n",
        "\n",
        "  # Add in data augmentation Sequential model as a layer\n",
        "  x = data_augmentation(inputs)\n",
        "\n",
        "  # Give base_model inputs (after augmentation) and don't train it\n",
        "  x = base_model(x, training=False)\n",
        "\n",
        "  # Pool output features of base model\n",
        "  x = layers.GlobalAveragePooling2D(name=\"global_average_pooling_layer\")(x)\n",
        "\n",
        "  # Put a dense layer on as the output\n",
        "  outputs = layers.Dense(num_classes, activation=\"softmax\", name=\"output_layer\")(x)\n",
        "\n",
        "  # Make a model with inputs and outputs\n",
        "  model = keras.Model(inputs, outputs)\n",
        "\n",
        "  # Compile the model\n",
        "  model.compile(loss=\"categorical_crossentropy\",\n",
        "                optimizer=tf.keras.optimizers.Adam(),\n",
        "                metrics=[\"accuracy\"])\n",
        "  \n",
        "  return model"
      ],
      "execution_count": 7,
      "outputs": [
        {
          "output_type": "stream",
          "text": [
            "Downloading data from https://storage.googleapis.com/keras-applications/efficientnetb0_notop.h5\n",
            "16711680/16705208 [==============================] - 0s 0us/step\n"
          ],
          "name": "stdout"
        }
      ]
    },
    {
      "cell_type": "code",
      "metadata": {
        "id": "h5w0PI1pOl7I"
      },
      "source": [
        "# Create a function to import an image and resize it to be able to be used with our model\n",
        "def load_and_prep_image(filename, img_shape=224, scale=False):\n",
        "  # Read in the image\n",
        "  img = tf.io.read_file(filename)\n",
        "  # Decode it into a tensor\n",
        "  img = tf.image.decode_jpeg(img)\n",
        "  # Resize the image\n",
        "  img = tf.image.resize(img, [img_shape, img_shape])\n",
        "  # Rescale the image (get all values between 0 and 1)\n",
        "  if scale:\n",
        "    return img/255.\n",
        "  else:\n",
        "    return img"
      ],
      "execution_count": 8,
      "outputs": []
    },
    {
      "cell_type": "code",
      "metadata": {
        "id": "iIOp96x5gN-u"
      },
      "source": [
        "# Unzip the downloaded file\n",
        "def unzip_data(filename):\n",
        "  zip_ref = zipfile.ZipFile(filename, \"r\")\n",
        "  zip_ref.extractall()\n",
        "  zip_ref.close()"
      ],
      "execution_count": 9,
      "outputs": []
    },
    {
      "cell_type": "code",
      "metadata": {
        "id": "2yamhJ8xJA5x"
      },
      "source": [
        "import datetime\n",
        "def create_tensorboard_callback(dir_name, experiment_name):\n",
        "  log_dir = dir_name + \"/\" + experiment_name + \"/\" + datetime.datetime.now().strftime(\"%Y%m%d-%H%M%S\")\n",
        "  tensorboard_callback = tf.keras.callbacks.TensorBoard(\n",
        "      log_dir=log_dir\n",
        "  )\n",
        "  print(f\"Saving TensorBoard log files to: {log_dir}\")\n",
        "  return tensorboard_callback"
      ],
      "execution_count": 10,
      "outputs": []
    },
    {
      "cell_type": "code",
      "metadata": {
        "id": "qwWwP657Szfv"
      },
      "source": [
        "# Get data\n",
        "import zipfile\n",
        "unzip_data(\"10_food_classes_all_data.zip\")"
      ],
      "execution_count": 9,
      "outputs": []
    },
    {
      "cell_type": "markdown",
      "metadata": {
        "id": "2mXArGOXXn6P"
      },
      "source": [
        "## Model 1 (10 classes)"
      ]
    },
    {
      "cell_type": "code",
      "metadata": {
        "id": "cwrIl-rsLdz8",
        "colab": {
          "base_uri": "https://localhost:8080/"
        },
        "outputId": "413e2368-b133-47f4-90db-dbec6ed47432"
      },
      "source": [
        "# Create BatchDataset\n",
        "train_data, test_data = create_data_loaders(train_dir=\"10_food_classes_all_data/train/\",\n",
        "                                            test_dir=\"10_food_classes_all_data/test/\")"
      ],
      "execution_count": 11,
      "outputs": [
        {
          "output_type": "stream",
          "text": [
            "Found 7500 files belonging to 10 classes.\n",
            "Found 2500 files belonging to 10 classes.\n"
          ],
          "name": "stdout"
        }
      ]
    },
    {
      "cell_type": "code",
      "metadata": {
        "colab": {
          "base_uri": "https://localhost:8080/"
        },
        "id": "U_h12Aozqge7",
        "outputId": "6174fb67-e34a-48c3-f88e-8b86e44d4e71"
      },
      "source": [
        "train_data"
      ],
      "execution_count": 12,
      "outputs": [
        {
          "output_type": "execute_result",
          "data": {
            "text/plain": [
              "<BatchDataset shapes: ((None, 224, 224, 3), (None, 10)), types: (tf.float32, tf.float32)>"
            ]
          },
          "metadata": {
            "tags": []
          },
          "execution_count": 12
        }
      ]
    },
    {
      "cell_type": "code",
      "metadata": {
        "colab": {
          "base_uri": "https://localhost:8080/"
        },
        "id": "ZSo9wTmBy6zr",
        "outputId": "cb720f8b-7fc0-4d98-b0b2-bccf45b45b39"
      },
      "source": [
        "# Create model\n",
        "model_1 = create_model(num_classes=len(train_data.class_names))\n",
        "\n",
        "# Fit the model\n",
        "history_1_percent = model_1.fit(train_data,\n",
        "                    epochs=5,\n",
        "                    steps_per_epoch=len(train_data),\n",
        "                    validation_data=test_data,\n",
        "                    validation_steps=int(0.25 * len(test_data)), # validate for less steps\n",
        "                    # Track model training logs\n",
        "                    callbacks=[create_tensorboard_callback(\"transfer_learning\", \"all_data_aug\")])"
      ],
      "execution_count": 13,
      "outputs": [
        {
          "output_type": "stream",
          "text": [
            "Saving TensorBoard log files to: transfer_learning/all_data_aug/20210511-190905\n",
            "Epoch 1/5\n",
            "235/235 [==============================] - 168s 565ms/step - loss: 1.4190 - accuracy: 0.5644 - val_loss: 0.5259 - val_accuracy: 0.8520\n",
            "Epoch 2/5\n",
            "235/235 [==============================] - 108s 457ms/step - loss: 0.7244 - accuracy: 0.7752 - val_loss: 0.4299 - val_accuracy: 0.8635\n",
            "Epoch 3/5\n",
            "235/235 [==============================] - 98s 414ms/step - loss: 0.6229 - accuracy: 0.8030 - val_loss: 0.3974 - val_accuracy: 0.8684\n",
            "Epoch 4/5\n",
            "235/235 [==============================] - 96s 403ms/step - loss: 0.5737 - accuracy: 0.8216 - val_loss: 0.4115 - val_accuracy: 0.8734\n",
            "Epoch 5/5\n",
            "235/235 [==============================] - 91s 383ms/step - loss: 0.5485 - accuracy: 0.8327 - val_loss: 0.4032 - val_accuracy: 0.8701\n"
          ],
          "name": "stdout"
        }
      ]
    },
    {
      "cell_type": "code",
      "metadata": {
        "colab": {
          "base_uri": "https://localhost:8080/"
        },
        "id": "wUKJxKVaY3aA",
        "outputId": "45207377-a31c-4517-a252-ecd6ba98eaf6"
      },
      "source": [
        "# Get an image Tensor\n",
        "!wget https://raw.githubusercontent.com/mrdbourke/tensorflow-deep-learning/main/images/03-pizza-dad.jpeg"
      ],
      "execution_count": 14,
      "outputs": [
        {
          "output_type": "stream",
          "text": [
            "--2021-05-11 19:18:28--  https://raw.githubusercontent.com/mrdbourke/tensorflow-deep-learning/main/images/03-pizza-dad.jpeg\n",
            "Resolving raw.githubusercontent.com (raw.githubusercontent.com)... 185.199.108.133, 185.199.110.133, 185.199.111.133, ...\n",
            "Connecting to raw.githubusercontent.com (raw.githubusercontent.com)|185.199.108.133|:443... connected.\n",
            "HTTP request sent, awaiting response... 200 OK\n",
            "Length: 2874848 (2.7M) [image/jpeg]\n",
            "Saving to: ‘03-pizza-dad.jpeg’\n",
            "\n",
            "03-pizza-dad.jpeg   100%[===================>]   2.74M  --.-KB/s    in 0.1s    \n",
            "\n",
            "2021-05-11 19:18:29 (26.3 MB/s) - ‘03-pizza-dad.jpeg’ saved [2874848/2874848]\n",
            "\n"
          ],
          "name": "stdout"
        }
      ]
    },
    {
      "cell_type": "code",
      "metadata": {
        "id": "a3SwO_LAqHAM",
        "colab": {
          "base_uri": "https://localhost:8080/"
        },
        "outputId": "dc73117d-815d-4d86-ac91-500a5bf3f8bb"
      },
      "source": [
        "# Classes our model is trained on\n",
        "class_names = train_data.class_names\n",
        "class_names"
      ],
      "execution_count": 15,
      "outputs": [
        {
          "output_type": "execute_result",
          "data": {
            "text/plain": [
              "['chicken_curry',\n",
              " 'chicken_wings',\n",
              " 'fried_rice',\n",
              " 'grilled_salmon',\n",
              " 'hamburger',\n",
              " 'ice_cream',\n",
              " 'pizza',\n",
              " 'ramen',\n",
              " 'steak',\n",
              " 'sushi']"
            ]
          },
          "metadata": {
            "tags": []
          },
          "execution_count": 15
        }
      ]
    },
    {
      "cell_type": "code",
      "metadata": {
        "colab": {
          "base_uri": "https://localhost:8080/"
        },
        "id": "p7gCXuavaDAF",
        "outputId": "7cab7dc3-2cdb-43ae-e56e-354de3a7dcec"
      },
      "source": [
        "# Preprocess image\n",
        "pizza_img = load_and_prep_image(\"03-pizza-dad.jpeg\")\n",
        "pizza_img"
      ],
      "execution_count": 16,
      "outputs": [
        {
          "output_type": "execute_result",
          "data": {
            "text/plain": [
              "<tf.Tensor: shape=(224, 224, 3), dtype=float32, numpy=\n",
              "array([[[ 73.625,  76.75 ,  67.125],\n",
              "        [114.   , 122.   , 101.   ],\n",
              "        [146.875, 151.875, 129.875],\n",
              "        ...,\n",
              "        [ 14.5  ,  17.5  ,  10.5  ],\n",
              "        [ 14.25 ,  19.25 ,  12.25 ],\n",
              "        [ 19.75 ,  22.75 ,  15.75 ]],\n",
              "\n",
              "       [[239.125, 243.625, 246.125],\n",
              "        [225.375, 232.125, 234.875],\n",
              "        [240.   , 245.   , 244.5  ],\n",
              "        ...,\n",
              "        [ 11.   ,  14.   ,   7.   ],\n",
              "        [ 20.   ,  23.   ,  16.   ],\n",
              "        [ 20.875,  25.875,  18.875]],\n",
              "\n",
              "       [[ 32.5  ,  34.5  ,  31.5  ],\n",
              "        [ 44.625,  44.5  ,  42.375],\n",
              "        [ 33.   ,  38.   ,  34.   ],\n",
              "        ...,\n",
              "        [  8.75 ,  13.25 ,   6.25 ],\n",
              "        [ 14.875,  17.875,  10.875],\n",
              "        [ 13.625,  20.625,  12.625]],\n",
              "\n",
              "       ...,\n",
              "\n",
              "       [[ 61.875,  40.875,  19.875],\n",
              "        [ 60.   ,  42.   ,  22.   ],\n",
              "        [ 61.   ,  43.   ,  21.   ],\n",
              "        ...,\n",
              "        [134.5  ,  96.125,  60.75 ],\n",
              "        [104.875,  69.375,  43.125],\n",
              "        [106.25 ,  75.25 ,  46.25 ]],\n",
              "\n",
              "       [[ 62.75 ,  44.75 ,  24.75 ],\n",
              "        [ 61.125,  43.125,  23.125],\n",
              "        [ 58.125,  40.125,  20.125],\n",
              "        ...,\n",
              "        [159.125, 111.125,  64.625],\n",
              "        [160.375, 112.375,  66.375],\n",
              "        [134.   ,  94.125,  56.75 ]],\n",
              "\n",
              "       [[ 59.625,  42.625,  22.625],\n",
              "        [ 61.75 ,  43.75 ,  22.5  ],\n",
              "        [ 59.25 ,  41.25 ,  21.25 ],\n",
              "        ...,\n",
              "        [161.5  , 113.5  ,  64.5  ],\n",
              "        [159.   , 108.   ,  63.   ],\n",
              "        [155.875, 104.875,  59.875]]], dtype=float32)>"
            ]
          },
          "metadata": {
            "tags": []
          },
          "execution_count": 16
        }
      ]
    },
    {
      "cell_type": "code",
      "metadata": {
        "colab": {
          "base_uri": "https://localhost:8080/"
        },
        "id": "81z-ynOlabav",
        "outputId": "0cd8744f-8d53-47ee-a8ca-d94a973c2056"
      },
      "source": [
        "# Make predictions\n",
        "pizza_expanded = tf.expand_dims(pizza_img, axis=0) # expand image dimensions (224, 224, 3) -> (1, 224, 224, 3)\n",
        "pred = model_1.predict(pizza_expanded)\n",
        "pred"
      ],
      "execution_count": 17,
      "outputs": [
        {
          "output_type": "execute_result",
          "data": {
            "text/plain": [
              "array([[4.6374924e-03, 4.9962833e-05, 2.2786309e-04, 3.9483485e-04,\n",
              "        5.7283623e-06, 2.3240937e-06, 9.9304044e-01, 1.5828549e-04,\n",
              "        1.1444876e-04, 1.3685966e-03]], dtype=float32)"
            ]
          },
          "metadata": {
            "tags": []
          },
          "execution_count": 17
        }
      ]
    },
    {
      "cell_type": "code",
      "metadata": {
        "id": "TRhanvm4rqrt"
      },
      "source": [
        "class_names = ['chicken_curry',\n",
        "\t\t\t\t 'chicken_wings',\n",
        "\t\t\t\t 'fried_rice',\n",
        "\t\t\t\t 'grilled_salmon',\n",
        "\t\t\t\t 'hamburger',\n",
        "\t\t\t\t 'ice_cream',\n",
        "\t\t\t\t 'pizza',\n",
        "\t\t\t\t 'ramen',\n",
        "\t\t\t\t 'steak',\n",
        "\t\t\t\t 'sushi']"
      ],
      "execution_count": 18,
      "outputs": []
    },
    {
      "cell_type": "code",
      "metadata": {
        "id": "jHIoie0Faoin",
        "colab": {
          "base_uri": "https://localhost:8080/",
          "height": 35
        },
        "outputId": "cebb1663-af16-4607-b76c-d79bf72e96f0"
      },
      "source": [
        "# Check the predicted class\n",
        "class_names[tf.argmax(pred[0])]"
      ],
      "execution_count": 19,
      "outputs": [
        {
          "output_type": "execute_result",
          "data": {
            "application/vnd.google.colaboratory.intrinsic+json": {
              "type": "string"
            },
            "text/plain": [
              "'pizza'"
            ]
          },
          "metadata": {
            "tags": []
          },
          "execution_count": 19
        }
      ]
    },
    {
      "cell_type": "code",
      "metadata": {
        "id": "h0jm4Hzdc85u",
        "colab": {
          "base_uri": "https://localhost:8080/"
        },
        "outputId": "285ed775-a0a2-42c8-bff7-9089c9d4fa08"
      },
      "source": [
        "# Save model_1\n",
        "model_1.save(\"efficientnet_model_1_10_classes\")"
      ],
      "execution_count": 20,
      "outputs": [
        {
          "output_type": "stream",
          "text": [
            "INFO:tensorflow:Assets written to: efficientnet_model_1_10_classes/assets\n"
          ],
          "name": "stdout"
        }
      ]
    },
    {
      "cell_type": "code",
      "metadata": {
        "id": "leqFi2hMq7if"
      },
      "source": [
        "#model_1 = tf.keras.models.load_model(\"efficientnet_model_1_10_classes\")"
      ],
      "execution_count": 21,
      "outputs": []
    },
    {
      "cell_type": "code",
      "metadata": {
        "id": "OXSwK4YIrFe7"
      },
      "source": [
        "from google.colab import auth\n",
        "auth.authenticate_user()"
      ],
      "execution_count": 22,
      "outputs": []
    },
    {
      "cell_type": "code",
      "metadata": {
        "id": "Pwvw03tFkP7X",
        "colab": {
          "base_uri": "https://localhost:8080/"
        },
        "outputId": "d29ec4fe-24d5-4cbc-ad1b-7275b32394e4"
      },
      "source": [
        "# Install and initialize the gcloud command line tool - https://cloud.google.com/sdk/docs/install\n",
        "# (this will give you access to gcloud tools within Colab)\n",
        "!curl https://sdk.cloud.google.com | bash 1> /dev/null\n",
        "!gcloud init"
      ],
      "execution_count": 23,
      "outputs": [
        {
          "output_type": "stream",
          "text": [
            "  % Total    % Received % Xferd  Average Speed   Time    Time     Time  Current\n",
            "                                 Dload  Upload   Total   Spent    Left  Speed\n",
            "\r  0     0    0     0    0     0      0      0 --:--:-- --:--:-- --:--:--     0\r100   443  100   443    0     0   6239      0 --:--:-- --:--:-- --:--:--  6239\n",
            "\r######################################################################## 100.0%\n",
            "which curl\n",
            "curl -# -f https://dl.google.com/dl/cloudsdk/channels/rapid/google-cloud-sdk.tar.gz\n",
            "######################################################################## 100.0%\n",
            "mkdir -p /root\n",
            "tar -C /root -zxvf /tmp/tmp.lIptK8zlwj/google-cloud-sdk.tar.gz\n",
            "/root/google-cloud-sdk/install.sh\n",
            "Beginning update. This process may take several minutes.\n",
            "\n",
            "\n",
            "Your current Cloud SDK version is: 340.0.0\n",
            "Installing components from version: 340.0.0\n",
            "\n",
            "┌─────────────────────────────────────────────────────────────────────────────┐\n",
            "│                     These components will be installed.                     │\n",
            "├─────────────────────────────────────────────────────┬────────────┬──────────┤\n",
            "│                         Name                        │  Version   │   Size   │\n",
            "├─────────────────────────────────────────────────────┼────────────┼──────────┤\n",
            "│ BigQuery Command Line Tool                          │     2.0.67 │  < 1 MiB │\n",
            "│ BigQuery Command Line Tool (Platform Specific)      │     2.0.65 │  < 1 MiB │\n",
            "│ Cloud SDK Core Libraries (Platform Specific)        │ 2021.03.12 │  < 1 MiB │\n",
            "│ Cloud Storage Command Line Tool                     │       4.61 │  3.9 MiB │\n",
            "│ Cloud Storage Command Line Tool (Platform Specific) │       4.59 │  < 1 MiB │\n",
            "│ anthoscli                                           │     0.2.16 │ 47.0 MiB │\n",
            "│ gcloud cli dependencies                             │ 2021.04.16 │  < 1 MiB │\n",
            "└─────────────────────────────────────────────────────┴────────────┴──────────┘\n",
            "\n",
            "For the latest full release notes, please visit:\n",
            "  https://cloud.google.com/sdk/release_notes\n",
            "\n",
            "╔════════════════════════════════════════════════════════════╗\n",
            "╠═ Creating update staging area                             ═╣\n",
            "╚════════════════════════════════════════════════════════════╝\n",
            "╔════════════════════════════════════════════════════════════╗\n",
            "╠═ Installing: BigQuery Command Line Tool                   ═╣\n",
            "╚════════════════════════════════════════════════════════════╝\n",
            "╔════════════════════════════════════════════════════════════╗\n",
            "╠═ Installing: BigQuery Command Line Tool (Platform Spec... ═╣\n",
            "╚════════════════════════════════════════════════════════════╝\n",
            "╔════════════════════════════════════════════════════════════╗\n",
            "╠═ Installing: Cloud SDK Core Libraries (Platform Specific) ═╣\n",
            "╚════════════════════════════════════════════════════════════╝\n",
            "╔════════════════════════════════════════════════════════════╗\n",
            "╠═ Installing: Cloud Storage Command Line Tool              ═╣\n",
            "╚════════════════════════════════════════════════════════════╝\n",
            "╔════════════════════════════════════════════════════════════╗\n",
            "╠═ Installing: Cloud Storage Command Line Tool (Platform... ═╣\n",
            "╚════════════════════════════════════════════════════════════╝\n",
            "╔════════════════════════════════════════════════════════════╗\n",
            "╠═ Installing: Default set of gcloud commands               ═╣\n",
            "╚════════════════════════════════════════════════════════════╝\n",
            "╔════════════════════════════════════════════════════════════╗\n",
            "╠═ Installing: anthoscli                                    ═╣\n",
            "╚════════════════════════════════════════════════════════════╝\n",
            "╔════════════════════════════════════════════════════════════╗\n",
            "╠═ Installing: anthoscli                                    ═╣\n",
            "╚════════════════════════════════════════════════════════════╝\n",
            "╔════════════════════════════════════════════════════════════╗\n",
            "╠═ Installing: gcloud cli dependencies                      ═╣\n",
            "╚════════════════════════════════════════════════════════════╝\n",
            "╔════════════════════════════════════════════════════════════╗\n",
            "╠═ Creating backup and activating new installation          ═╣\n",
            "╚════════════════════════════════════════════════════════════╝\n",
            "\n",
            "\n",
            "Update done!\n",
            "\n",
            "\u001b[1;33mWARNING:\u001b[0m   There are other instances of Google Cloud Platform tools on your system PATH.\n",
            "  Please remove the following to avoid confusion or accidental invocation:\n",
            "\n",
            "  /tools/google-cloud-sdk/bin/bq\n",
            "/tools/google-cloud-sdk/bin/anthoscli\n",
            "/tools/google-cloud-sdk/bin/gsutil\n",
            "/tools/google-cloud-sdk/bin/java_dev_appserver.sh\n",
            "/tools/google-cloud-sdk/bin/gcloud\n",
            "/tools/google-cloud-sdk/bin/docker-credential-gcloud\n",
            "/tools/google-cloud-sdk/bin/dev_appserver.py\n",
            "/tools/google-cloud-sdk/bin/endpointscfg.py\n",
            "/tools/google-cloud-sdk/bin/git-credential-gcloud.sh\n",
            "\n",
            "  \n",
            "==> Source [/root/google-cloud-sdk/completion.bash.inc] in your profile to enable shell command completion for gcloud.\n",
            "==> Source [/root/google-cloud-sdk/path.bash.inc] in your profile to add the Google Cloud SDK command line tools to your $PATH.\n",
            "Welcome! This command will take you through the configuration of gcloud.\n",
            "\n",
            "Settings from your current configuration [default] are:\n",
            "component_manager:\n",
            "  disable_update_check: 'True'\n",
            "compute:\n",
            "  gce_metadata_read_timeout_sec: '0'\n",
            "core:\n",
            "  account: shripad.kulkarni18@vit.edu\n",
            "\n",
            "Pick configuration to use:\n",
            " [1] Re-initialize this configuration [default] with new settings \n",
            " [2] Create a new configuration\n",
            "Please enter your numeric choice:  1\n",
            "\n",
            "Your current configuration has been set to: [default]\n",
            "\n",
            "You can skip diagnostics next time by using the following flag:\n",
            "  gcloud init --skip-diagnostics\n",
            "\n",
            "Network diagnostic detects and fixes local network connection issues.\n",
            "Reachability Check passed.\n",
            "Network diagnostic passed (1/1 checks passed).\n",
            "\n",
            "Choose the account you would like to use to perform operations for \n",
            "this configuration:\n",
            " [1] shripad.kulkarni18@vit.edu\n",
            " [2] Log in with a new account\n",
            "Please enter your numeric choice:  1\n",
            "\n",
            "You are logged in as: [shripad.kulkarni18@vit.edu].\n",
            "\n",
            "Pick cloud project to use: \n",
            " [1] iot-course-project-312117\n",
            " [2] iot-img-cp\n",
            " [3] rich-synapse-312806\n",
            " [4] trojansbot-kffcgo\n",
            " [5] Create a new project\n",
            "Please enter numeric choice or text value (must exactly match list \n",
            "item):  2\n",
            "\n",
            "Your current project has been set to: [iot-img-cp].\n",
            "\n",
            "Not setting default zone/region (this feature makes it easier to use\n",
            "[gcloud compute] by setting an appropriate default value for the\n",
            "--zone and --region flag).\n",
            "See https://cloud.google.com/compute/docs/gcloud-compute section on how to set\n",
            "default compute region and zone manually. If you would like [gcloud init] to be\n",
            "able to do this for you the next time you run it, make sure the\n",
            "Compute Engine API is enabled for your project on the\n",
            "https://console.developers.google.com/apis page.\n",
            "\n",
            "Your Google Cloud SDK is configured and ready to use!\n",
            "\n",
            "* Commands that require authentication will use shripad.kulkarni18@vit.edu by default\n",
            "* Commands will reference project `iot-img-cp` by default\n",
            "Run `gcloud help config` to learn how to change individual settings\n",
            "\n",
            "This gcloud configuration is called [default]. You can create additional configurations if you work with multiple accounts and/or projects.\n",
            "Run `gcloud topic configurations` to learn more.\n",
            "\n",
            "Some things to try next:\n",
            "\n",
            "* Run `gcloud --help` to see the Cloud Platform services you can interact with. And run `gcloud help COMMAND` to get help on any gcloud command.\n",
            "* Run `gcloud topic --help` to learn about advanced features of the SDK like arg files and output formatting\n"
          ],
          "name": "stdout"
        }
      ]
    },
    {
      "cell_type": "code",
      "metadata": {
        "colab": {
          "base_uri": "https://localhost:8080/"
        },
        "id": "EffRX2Dp5ASj",
        "outputId": "fd2656ef-383a-4a24-e769-f22d6bfa8b1b"
      },
      "source": [
        "# Copy model to bucket - https://cloud.google.com/storage/docs/uploading-objects#gsutil \n",
        "# Use \"-r\" for folders (r stands for recursive)\n",
        "!gsutil cp -r efficientnet_model_1_10_classes gs://iot_cp_image_classification"
      ],
      "execution_count": 24,
      "outputs": [
        {
          "output_type": "stream",
          "text": [
            "Copying file://efficientnet_model_1_10_classes/saved_model.pb [Content-Type=application/octet-stream]...\n",
            "Copying file://efficientnet_model_1_10_classes/variables/variables.data-00000-of-00001 [Content-Type=application/octet-stream]...\n",
            "Copying file://efficientnet_model_1_10_classes/variables/variables.index [Content-Type=application/octet-stream]...\n",
            "\\ [3 files][ 22.1 MiB/ 22.1 MiB]                                                \n",
            "Operation completed over 3 objects/22.1 MiB.                                     \n"
          ],
          "name": "stdout"
        }
      ]
    },
    {
      "cell_type": "markdown",
      "metadata": {
        "id": "_3Gk2K0NLnSK"
      },
      "source": [
        "## Model 2 (11 classes + Non-Food images)"
      ]
    },
    {
      "cell_type": "code",
      "metadata": {
        "colab": {
          "base_uri": "https://localhost:8080/"
        },
        "id": "F0qwowheL3re",
        "outputId": "c7e58aca-1fca-4fda-8cdb-95d027f84f86"
      },
      "source": [
        "# Download data\n",
        "!wget https://storage.googleapis.com/ml_deploymet_lec_bucket_0/11_food_classes_plus_not_food_class_all_data.zip \n",
        "unzip_data(\"11_food_classes_plus_not_food_class_all_data.zip\")"
      ],
      "execution_count": 11,
      "outputs": [
        {
          "output_type": "stream",
          "text": [
            "--2021-05-11 20:50:07--  https://storage.googleapis.com/ml_deploymet_lec_bucket_0/11_food_classes_plus_not_food_class_all_data.zip\n",
            "Resolving storage.googleapis.com (storage.googleapis.com)... 142.250.81.208, 142.250.73.208, 142.250.65.80, ...\n",
            "Connecting to storage.googleapis.com (storage.googleapis.com)|142.250.81.208|:443... connected.\n",
            "HTTP request sent, awaiting response... 200 OK\n",
            "Length: 1053780900 (1005M) [application/zip]\n",
            "Saving to: ‘11_food_classes_plus_not_food_class_all_data.zip’\n",
            "\n",
            "11_food_classes_plu 100%[===================>]   1005M  68.3MB/s    in 15s     \n",
            "\n",
            "2021-05-11 20:50:22 (67.8 MB/s) - ‘11_food_classes_plus_not_food_class_all_data.zip’ saved [1053780900/1053780900]\n",
            "\n"
          ],
          "name": "stdout"
        }
      ]
    },
    {
      "cell_type": "code",
      "metadata": {
        "colab": {
          "base_uri": "https://localhost:8080/"
        },
        "id": "Awuu5deKL9F8",
        "outputId": "cf6ee974-2366-4dd5-fb86-5249ec51a11c"
      },
      "source": [
        "# Create data loaders\n",
        "train_data, test_data = create_data_loaders(train_dir=\"11_food_classes_plus_not_food_class_all_data/train/\",\n",
        "                                            test_dir=\"11_food_classes_plus_not_food_class_all_data/test/\")"
      ],
      "execution_count": 12,
      "outputs": [
        {
          "output_type": "stream",
          "text": [
            "Found 14343 files belonging to 12 classes.\n",
            "Found 4273 files belonging to 12 classes.\n"
          ],
          "name": "stdout"
        }
      ]
    },
    {
      "cell_type": "code",
      "metadata": {
        "colab": {
          "base_uri": "https://localhost:8080/"
        },
        "id": "szR2gcvvM0UG",
        "outputId": "071107f0-92b7-439d-b41e-41a233088cd0"
      },
      "source": [
        "# Create model\n",
        "model_2 = create_model(num_classes=len(train_data.class_names))\n",
        "\n",
        "# Fit model\n",
        "history_2 = model_2.fit(train_data,\n",
        "                        epochs=5,\n",
        "                        validation_data=test_data,\n",
        "                        validation_steps=int(0.25*len(test_data)))"
      ],
      "execution_count": 13,
      "outputs": [
        {
          "output_type": "stream",
          "text": [
            "Epoch 1/5\n",
            "449/449 [==============================] - 195s 352ms/step - loss: 1.2466 - accuracy: 0.6470 - val_loss: 0.5501 - val_accuracy: 0.8665\n",
            "Epoch 2/5\n",
            "449/449 [==============================] - 121s 268ms/step - loss: 0.6099 - accuracy: 0.8240 - val_loss: 0.4723 - val_accuracy: 0.8703\n",
            "Epoch 3/5\n",
            "449/449 [==============================] - 112s 248ms/step - loss: 0.5457 - accuracy: 0.8394 - val_loss: 0.4598 - val_accuracy: 0.8778\n",
            "Epoch 4/5\n",
            "449/449 [==============================] - 106s 234ms/step - loss: 0.4995 - accuracy: 0.8527 - val_loss: 0.4388 - val_accuracy: 0.8769\n",
            "Epoch 5/5\n",
            "449/449 [==============================] - 99s 220ms/step - loss: 0.4710 - accuracy: 0.8623 - val_loss: 0.4194 - val_accuracy: 0.8769\n"
          ],
          "name": "stdout"
        }
      ]
    },
    {
      "cell_type": "code",
      "metadata": {
        "colab": {
          "base_uri": "https://localhost:8080/"
        },
        "id": "PlhSmwPAM3Ne",
        "outputId": "c0f8736d-7507-426b-f3d6-bcf385309a19"
      },
      "source": [
        "# Save model_2\n",
        "model_2.save(\"efficientnet_model_2_12_classes\")"
      ],
      "execution_count": 14,
      "outputs": [
        {
          "output_type": "stream",
          "text": [
            "INFO:tensorflow:Assets written to: efficientnet_model_2_12_classes/assets\n"
          ],
          "name": "stdout"
        }
      ]
    },
    {
      "cell_type": "code",
      "metadata": {
        "colab": {
          "base_uri": "https://localhost:8080/"
        },
        "id": "4ZtBgXGZM5u-",
        "outputId": "831ecedb-a16a-417c-b792-201579f59a6d"
      },
      "source": [
        "model_2.evaluate(test_data)"
      ],
      "execution_count": 15,
      "outputs": [
        {
          "output_type": "stream",
          "text": [
            "134/134 [==============================] - 22s 158ms/step - loss: 0.4081 - accuracy: 0.8888\n"
          ],
          "name": "stdout"
        },
        {
          "output_type": "execute_result",
          "data": {
            "text/plain": [
              "[0.40807825326919556, 0.8888368606567383]"
            ]
          },
          "metadata": {
            "tags": []
          },
          "execution_count": 15
        }
      ]
    },
    {
      "cell_type": "code",
      "metadata": {
        "id": "PinwsDh3M732"
      },
      "source": [
        "# Auth Colab\n",
        "from google.colab import auth\n",
        "auth.authenticate_user()\n",
        "!curl https://sdk.cloud.google.com | bash 1> /dev/null\n",
        "!gcloud init"
      ],
      "execution_count": null,
      "outputs": []
    },
    {
      "cell_type": "code",
      "metadata": {
        "colab": {
          "base_uri": "https://localhost:8080/"
        },
        "id": "REeb6flqR4fn",
        "outputId": "95ab1fa0-4f3d-4cd3-a023-490b9b2c2c73"
      },
      "source": [
        "!gcloud init"
      ],
      "execution_count": 17,
      "outputs": [
        {
          "output_type": "stream",
          "text": [
            "Welcome! This command will take you through the configuration of gcloud.\n",
            "\n",
            "Settings from your current configuration [default] are:\n",
            "component_manager:\n",
            "  disable_update_check: 'True'\n",
            "compute:\n",
            "  gce_metadata_read_timeout_sec: '0'\n",
            "core:\n",
            "  account: shripad.kulkarni18@vit.edu\n",
            "  project: iot-course-project-312117\n",
            "\n",
            "Pick configuration to use:\n",
            " [1] Re-initialize this configuration [default] with new settings \n",
            " [2] Create a new configuration\n",
            "Please enter your numeric choice:  1\n",
            "\n",
            "Your current configuration has been set to: [default]\n",
            "\n",
            "You can skip diagnostics next time by using the following flag:\n",
            "  gcloud init --skip-diagnostics\n",
            "\n",
            "Network diagnostic detects and fixes local network connection issues.\n",
            "Reachability Check passed.\n",
            "Network diagnostic passed (1/1 checks passed).\n",
            "\n",
            "Choose the account you would like to use to perform operations for \n",
            "this configuration:\n",
            " [1] shripad.kulkarni18@vit.edu\n",
            " [2] Log in with a new account\n",
            "Please enter your numeric choice:  1\n",
            "\n",
            "You are logged in as: [shripad.kulkarni18@vit.edu].\n",
            "\n",
            "Pick cloud project to use: \n",
            " [1] iot-course-project-312117\n",
            " [2] iot-img-cp\n",
            " [3] rich-synapse-312806\n",
            " [4] trojansbot-kffcgo\n",
            " [5] Create a new project\n",
            "Please enter numeric choice or text value (must exactly match list \n",
            "item):  2\n",
            "\n",
            "Your current project has been set to: [iot-img-cp].\n",
            "\n",
            "Not setting default zone/region (this feature makes it easier to use\n",
            "[gcloud compute] by setting an appropriate default value for the\n",
            "--zone and --region flag).\n",
            "See https://cloud.google.com/compute/docs/gcloud-compute section on how to set\n",
            "default compute region and zone manually. If you would like [gcloud init] to be\n",
            "able to do this for you the next time you run it, make sure the\n",
            "Compute Engine API is enabled for your project on the\n",
            "https://console.developers.google.com/apis page.\n",
            "\n",
            "Your Google Cloud SDK is configured and ready to use!\n",
            "\n",
            "* Commands that require authentication will use shripad.kulkarni18@vit.edu by default\n",
            "* Commands will reference project `iot-img-cp` by default\n",
            "Run `gcloud help config` to learn how to change individual settings\n",
            "\n",
            "This gcloud configuration is called [default]. You can create additional configurations if you work with multiple accounts and/or projects.\n",
            "Run `gcloud topic configurations` to learn more.\n",
            "\n",
            "Some things to try next:\n",
            "\n",
            "* Run `gcloud --help` to see the Cloud Platform services you can interact with. And run `gcloud help COMMAND` to get help on any gcloud command.\n",
            "* Run `gcloud topic --help` to learn about advanced features of the SDK like arg files and output formatting\n"
          ],
          "name": "stdout"
        }
      ]
    },
    {
      "cell_type": "code",
      "metadata": {
        "colab": {
          "base_uri": "https://localhost:8080/"
        },
        "id": "x6sXUYkZNClT",
        "outputId": "696943d4-1676-4a3e-eda8-25a9d086c7ea"
      },
      "source": [
        "!gsutil cp -r efficientnet_model_2_12_classes gs://iot_cp_image_classification"
      ],
      "execution_count": 18,
      "outputs": [
        {
          "output_type": "stream",
          "text": [
            "Copying file://efficientnet_model_2_12_classes/saved_model.pb [Content-Type=application/octet-stream]...\n",
            "Copying file://efficientnet_model_2_12_classes/variables/variables.data-00000-of-00001 [Content-Type=application/octet-stream]...\n",
            "Copying file://efficientnet_model_2_12_classes/variables/variables.index [Content-Type=application/octet-stream]...\n",
            "- [3 files][ 22.1 MiB/ 22.1 MiB]                                                \n",
            "Operation completed over 3 objects/22.1 MiB.                                     \n"
          ],
          "name": "stdout"
        }
      ]
    },
    {
      "cell_type": "code",
      "metadata": {
        "id": "zHJxJ7ZZSRDN"
      },
      "source": [
        ""
      ],
      "execution_count": null,
      "outputs": []
    }
  ]
}